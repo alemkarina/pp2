{
 "cells": [
  {
   "cell_type": "markdown",
   "id": "43cadd57",
   "metadata": {},
   "source": [
    "# Horario de mayor concurrencia de negocio\n",
    "\n",
    "\n",
    "Script para hacer scraping del publico de un negocio en base a la altura de la barra del grafico que se muestra en la busqueda de google."
   ]
  },
  {
   "cell_type": "code",
   "execution_count": 17,
   "id": "8e020f3d",
   "metadata": {},
   "outputs": [],
   "source": [
    "from selenium import webdriver\n",
    "from selenium.webdriver.common.by import By\n",
    "from selenium.webdriver.support.ui import WebDriverWait\n",
    "from selenium.webdriver.support import expected_conditions as EC\n",
    "from selenium.webdriver.common.keys import Keys\n",
    "from selenium.common.exceptions import NoSuchElementException, TimeoutException, ElementNotInteractableException, ElementClickInterceptedException\n",
    "from selenium.webdriver.chrome.service import Service as ChromeService\n",
    "from webdriver_manager.chrome import ChromeDriverManager\n",
    "\n",
    "from selenium.webdriver.support import expected_conditions as EC\n",
    "from selenium.webdriver.common.by import By\n",
    "from selenium.webdriver.support.ui import WebDriverWait as wait\n",
    "\n",
    "import pandas as pd\n",
    "import numpy as np\n",
    "import matplotlib.pyplot as plt\n",
    "import seaborn as sns\n",
    "\n",
    "import requests\n",
    "import warnings\n",
    "from bs4 import BeautifulSoup\n",
    "warnings.filterwarnings('ignore')\n",
    "\n",
    "import folium\n",
    "\n",
    "import time, re"
   ]
  },
  {
   "cell_type": "code",
   "execution_count": 18,
   "id": "8a66153e",
   "metadata": {},
   "outputs": [],
   "source": [
    "url = 'https://www.google.com/search?q=cordoba+shopping&oq=cordoba+shoop&aqs=edge.1.69i57j0i10i131i433i512j0i10i512l7.6107j0j1&sourceid=chrome&ie=UTF-8'"
   ]
  },
  {
   "cell_type": "code",
   "execution_count": 19,
   "id": "eeca3c61",
   "metadata": {},
   "outputs": [],
   "source": [
    "driver = webdriver.Chrome(ChromeDriverManager().install())\n",
    "driver.get(url)"
   ]
  },
  {
   "cell_type": "code",
   "execution_count": 20,
   "id": "8ffe2234",
   "metadata": {},
   "outputs": [],
   "source": [
    "data = driver.find_elements_by_css_selector('div[role=\"radiogroup\"]')"
   ]
  },
  {
   "cell_type": "code",
   "execution_count": 21,
   "id": "d4459536",
   "metadata": {},
   "outputs": [],
   "source": [
    "data = driver.find_elements_by_css_selector('div[data-hour]')"
   ]
  },
  {
   "cell_type": "code",
   "execution_count": 22,
   "id": "657fd924",
   "metadata": {},
   "outputs": [],
   "source": [
    "i    = 0\n",
    "k    = 0\n",
    "df   = pd.DataFrame()\n",
    "df2  = pd.DataFrame()\n",
    "df3  = pd.DataFrame()"
   ]
  },
  {
   "cell_type": "code",
   "execution_count": 23,
   "id": "3341f741",
   "metadata": {},
   "outputs": [],
   "source": [
    "def scrap(df, df2, data, i, k, n):\n",
    "    for hora in data:\n",
    "        try:\n",
    "            df   = df.append( pd.Series(data[i].get_attribute('data-hour'))  , ignore_index=True)\n",
    "            i    = i+1\n",
    "        except:\n",
    "            print('Hubo un error')\n",
    "    for hora in data:\n",
    "        try:\n",
    "            df2  = df2.append( pd.Series(data[k].find_elements_by_css_selector('div')[1].get_attribute('style')) , ignore_index=True) \n",
    "            k = k + 1\n",
    "        except:\n",
    "            print('Hubo un error')\n",
    "    df2 = (df2[0].str.split(expand=True)[1]).str.split('p', expand=True)[0].str.split(expand=True)\n",
    "    df.columns=['Horas']\n",
    "    df2.columns=['Cantidad']\n",
    "    df3 = pd.concat([df, df2], axis=1)\n",
    "    df3 = df3.assign( Dia  = n)\n",
    "    return df3"
   ]
  },
  {
   "cell_type": "code",
   "execution_count": 24,
   "id": "1828a50c",
   "metadata": {},
   "outputs": [],
   "source": [
    "wait(driver, 10).until(EC.element_to_be_clickable((By.XPATH, \"//span[text()= 'lun' ]\"))).click()\n",
    "df3 = df3.append(scrap(df, df2, data, i, k, 1))\n",
    "i    = 0\n",
    "k    = 0"
   ]
  },
  {
   "cell_type": "code",
   "execution_count": 25,
   "id": "ed4f6b8f",
   "metadata": {},
   "outputs": [],
   "source": [
    "wait(driver, 10).until(EC.element_to_be_clickable((By.XPATH, \"//span[text()= 'mar' ]\"))).click()\n",
    "df3 = df3.append(scrap(df, df2, data, i, k, 2))\n",
    "i    = 0\n",
    "k    = 0"
   ]
  },
  {
   "cell_type": "code",
   "execution_count": 26,
   "id": "44790aa8",
   "metadata": {},
   "outputs": [],
   "source": [
    "wait(driver, 10).until(EC.element_to_be_clickable((By.XPATH, \"//span[text()= 'mié' ]\"))).click()\n",
    "df3 = df3.append(scrap(df, df2, data, i, k, 3))\n",
    "i    = 0\n",
    "k    = 0"
   ]
  },
  {
   "cell_type": "code",
   "execution_count": 27,
   "id": "8b371f8f",
   "metadata": {},
   "outputs": [],
   "source": [
    "wait(driver, 10).until(EC.element_to_be_clickable((By.XPATH, \"//span[text()= 'jue' ]\"))).click()\n",
    "df3 = df3.append(scrap(df, df2, data, i, k, 4))\n",
    "i    = 0\n",
    "k    = 0"
   ]
  },
  {
   "cell_type": "code",
   "execution_count": 28,
   "id": "5a0659a5",
   "metadata": {},
   "outputs": [],
   "source": [
    "wait(driver, 10).until(EC.element_to_be_clickable((By.XPATH, \"//span[text()= 'vie' ]\"))).click()\n",
    "df3 = df3.append(scrap(df, df2, data, i, k, 5))\n",
    "i    = 0\n",
    "k    = 0"
   ]
  },
  {
   "cell_type": "code",
   "execution_count": 29,
   "id": "e56d66f7",
   "metadata": {},
   "outputs": [],
   "source": [
    "wait(driver, 10).until(EC.element_to_be_clickable((By.XPATH, \"//span[text()= 'sáb' ]\"))).click()\n",
    "df3 = df3.append(scrap(df, df2, data, i, k, 6))\n",
    "i    = 0\n",
    "k    = 0"
   ]
  },
  {
   "cell_type": "code",
   "execution_count": 30,
   "id": "c4ccc8c1",
   "metadata": {},
   "outputs": [],
   "source": [
    "wait(driver, 10).until(EC.element_to_be_clickable((By.XPATH, \"//span[text()= 'dom' ]\"))).click()\n",
    "df3 = df3.append(scrap(df, df2, data, i, k, 7))\n",
    "i    = 0\n",
    "k    = 0"
   ]
  },
  {
   "cell_type": "code",
   "execution_count": 31,
   "id": "22d17782",
   "metadata": {
    "scrolled": true
   },
   "outputs": [
    {
     "data": {
      "text/html": [
       "<div>\n",
       "<style scoped>\n",
       "    .dataframe tbody tr th:only-of-type {\n",
       "        vertical-align: middle;\n",
       "    }\n",
       "\n",
       "    .dataframe tbody tr th {\n",
       "        vertical-align: top;\n",
       "    }\n",
       "\n",
       "    .dataframe thead th {\n",
       "        text-align: right;\n",
       "    }\n",
       "</style>\n",
       "<table border=\"1\" class=\"dataframe\">\n",
       "  <thead>\n",
       "    <tr style=\"text-align: right;\">\n",
       "      <th></th>\n",
       "      <th>Horas</th>\n",
       "      <th>Cantidad</th>\n",
       "      <th>Profit</th>\n",
       "    </tr>\n",
       "  </thead>\n",
       "  <tbody>\n",
       "    <tr>\n",
       "      <th>0</th>\n",
       "      <td>6</td>\n",
       "      <td>0</td>\n",
       "      <td>1</td>\n",
       "    </tr>\n",
       "    <tr>\n",
       "      <th>1</th>\n",
       "      <td>7</td>\n",
       "      <td>0</td>\n",
       "      <td>1</td>\n",
       "    </tr>\n",
       "    <tr>\n",
       "      <th>2</th>\n",
       "      <td>8</td>\n",
       "      <td>0</td>\n",
       "      <td>1</td>\n",
       "    </tr>\n",
       "    <tr>\n",
       "      <th>3</th>\n",
       "      <td>9</td>\n",
       "      <td>0</td>\n",
       "      <td>1</td>\n",
       "    </tr>\n",
       "    <tr>\n",
       "      <th>4</th>\n",
       "      <td>10</td>\n",
       "      <td>15</td>\n",
       "      <td>1</td>\n",
       "    </tr>\n",
       "    <tr>\n",
       "      <th>...</th>\n",
       "      <td>...</td>\n",
       "      <td>...</td>\n",
       "      <td>...</td>\n",
       "    </tr>\n",
       "    <tr>\n",
       "      <th>13</th>\n",
       "      <td>19</td>\n",
       "      <td>75</td>\n",
       "      <td>7</td>\n",
       "    </tr>\n",
       "    <tr>\n",
       "      <th>14</th>\n",
       "      <td>20</td>\n",
       "      <td>66</td>\n",
       "      <td>7</td>\n",
       "    </tr>\n",
       "    <tr>\n",
       "      <th>15</th>\n",
       "      <td>21</td>\n",
       "      <td>0</td>\n",
       "      <td>7</td>\n",
       "    </tr>\n",
       "    <tr>\n",
       "      <th>16</th>\n",
       "      <td>22</td>\n",
       "      <td>0</td>\n",
       "      <td>7</td>\n",
       "    </tr>\n",
       "    <tr>\n",
       "      <th>17</th>\n",
       "      <td>23</td>\n",
       "      <td>0</td>\n",
       "      <td>7</td>\n",
       "    </tr>\n",
       "  </tbody>\n",
       "</table>\n",
       "<p>126 rows × 3 columns</p>\n",
       "</div>"
      ],
      "text/plain": [
       "   Horas Cantidad  Profit\n",
       "0      6        0       1\n",
       "1      7        0       1\n",
       "2      8        0       1\n",
       "3      9        0       1\n",
       "4     10       15       1\n",
       "..   ...      ...     ...\n",
       "13    19       75       7\n",
       "14    20       66       7\n",
       "15    21        0       7\n",
       "16    22        0       7\n",
       "17    23        0       7\n",
       "\n",
       "[126 rows x 3 columns]"
      ]
     },
     "execution_count": 31,
     "metadata": {},
     "output_type": "execute_result"
    }
   ],
   "source": [
    "df3"
   ]
  }
 ],
 "metadata": {
  "kernelspec": {
   "display_name": "Python 3 (ipykernel)",
   "language": "python",
   "name": "python3"
  },
  "language_info": {
   "codemirror_mode": {
    "name": "ipython",
    "version": 3
   },
   "file_extension": ".py",
   "mimetype": "text/x-python",
   "name": "python",
   "nbconvert_exporter": "python",
   "pygments_lexer": "ipython3",
   "version": "3.9.12"
  }
 },
 "nbformat": 4,
 "nbformat_minor": 5
}
